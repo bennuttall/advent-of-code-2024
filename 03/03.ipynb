{
 "cells": [
  {
   "cell_type": "code",
   "execution_count": 1,
   "metadata": {},
   "outputs": [],
   "source": [
    "from pathlib import Path\n",
    "\n",
    "lines = Path(\"input\").read_text()"
   ]
  },
  {
   "cell_type": "code",
   "execution_count": 2,
   "metadata": {},
   "outputs": [],
   "source": [
    "import re\n",
    "\n",
    "mul_pattern = r\"mul\\((\\d{1,3}),(\\d{1,3})\\)\"\n",
    "\n",
    "matches = re.findall(mul_pattern, lines)"
   ]
  },
  {
   "cell_type": "code",
   "execution_count": 3,
   "metadata": {},
   "outputs": [
    {
     "name": "stdout",
     "output_type": "stream",
     "text": [
      "Part 1:\n",
      "180233229\n"
     ]
    }
   ],
   "source": [
    "print(\"Part 1:\")\n",
    "print(sum([int(a) * int(b) for a, b in matches]))"
   ]
  },
  {
   "cell_type": "code",
   "execution_count": 4,
   "metadata": {},
   "outputs": [],
   "source": [
    "do_pattern = r\"do\\(\\)\"\n",
    "dont_pattern = r\"don't\\(\\)\"\n",
    "\n",
    "do_indexes = [match.start() for match in re.finditer(do_pattern, lines)]\n",
    "dont_indexes = [match.start() for match in re.finditer(dont_pattern, lines)]\n",
    "mul_indexes = {match.start(): match.groups() for match in re.finditer(mul_pattern, lines)}\n",
    "\n",
    "enabled = True\n",
    "total = 0\n",
    "for i in range(len(lines)):\n",
    "    if i in do_indexes:\n",
    "        enabled = True\n",
    "    elif i in dont_indexes:\n",
    "        enabled = False\n",
    "    if i in mul_indexes and enabled:\n",
    "        a, b = mul_indexes[i]\n",
    "        total += int(a) * int(b)"
   ]
  },
  {
   "cell_type": "code",
   "execution_count": 5,
   "metadata": {},
   "outputs": [
    {
     "name": "stdout",
     "output_type": "stream",
     "text": [
      "Part 2:\n",
      "95411583\n"
     ]
    }
   ],
   "source": [
    "print(\"Part 2:\")\n",
    "print(total)"
   ]
  }
 ],
 "metadata": {
  "kernelspec": {
   "display_name": "aoc",
   "language": "python",
   "name": "python3"
  },
  "language_info": {
   "codemirror_mode": {
    "name": "ipython",
    "version": 3
   },
   "file_extension": ".py",
   "mimetype": "text/x-python",
   "name": "python",
   "nbconvert_exporter": "python",
   "pygments_lexer": "ipython3",
   "version": "3.11.9"
  }
 },
 "nbformat": 4,
 "nbformat_minor": 2
}
