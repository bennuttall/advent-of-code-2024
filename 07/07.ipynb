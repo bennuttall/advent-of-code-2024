{
 "cells": [
  {
   "cell_type": "code",
   "execution_count": 1,
   "metadata": {},
   "outputs": [],
   "source": [
    "s = \"\"\"190: 10 19\n",
    "3267: 81 40 27\n",
    "83: 17 5\n",
    "156: 15 6\n",
    "7290: 6 8 6 15\n",
    "161011: 16 10 13\n",
    "192: 17 8 14\n",
    "21037: 9 7 18 13\n",
    "292: 11 6 16 20\"\"\""
   ]
  },
  {
   "cell_type": "code",
   "execution_count": 2,
   "metadata": {},
   "outputs": [],
   "source": [
    "from pathlib import Path\n",
    "\n",
    "s = Path(\"input\").read_text().strip()"
   ]
  },
  {
   "cell_type": "code",
   "execution_count": 3,
   "metadata": {},
   "outputs": [],
   "source": [
    "def make_equation(line: str) -> tuple[int, list[int]]:\n",
    "    ans, rest = line.split(\": \")\n",
    "    nums = [int(n) for n in rest.split(\" \")]\n",
    "    return (int(ans), nums)\n",
    "\n",
    "equations = [make_equation(line) for line in s.split(\"\\n\")]"
   ]
  },
  {
   "cell_type": "code",
   "execution_count": 4,
   "metadata": {},
   "outputs": [],
   "source": [
    "from itertools import product\n",
    "\n",
    "def check_operators(equation: tuple[int, list[int]], operators: list):\n",
    "    ans, nums = equation\n",
    "    gaps = len(nums) - 1\n",
    "    for combo in product(operators, repeat=gaps):\n",
    "        result = nums[0]\n",
    "        for op, n in zip(combo, nums[1:]):\n",
    "            result = op(result, n)\n",
    "        if result == ans:\n",
    "            return True\n",
    "    return False"
   ]
  },
  {
   "cell_type": "code",
   "execution_count": 5,
   "metadata": {},
   "outputs": [],
   "source": [
    "def calibrate(operators: list):\n",
    "    total = 0\n",
    "    for equation in equations:\n",
    "        if check_operators(equation, operators):\n",
    "            ans, *_ = equation\n",
    "            total += ans\n",
    "    return total"
   ]
  },
  {
   "cell_type": "code",
   "execution_count": 6,
   "metadata": {},
   "outputs": [
    {
     "name": "stdout",
     "output_type": "stream",
     "text": [
      "Part 1:\n",
      "28730327770375\n"
     ]
    }
   ],
   "source": [
    "from operator import add, mul\n",
    "\n",
    "operators = (add, mul)\n",
    "\n",
    "print(\"Part 1:\")\n",
    "print(calibrate(operators))"
   ]
  },
  {
   "cell_type": "code",
   "execution_count": 7,
   "metadata": {},
   "outputs": [],
   "source": [
    "def cat(a: int, b: int) -> int:\n",
    "    a = str(a)\n",
    "    b = str(b)\n",
    "    return (int(a + b))"
   ]
  },
  {
   "cell_type": "code",
   "execution_count": 8,
   "metadata": {},
   "outputs": [
    {
     "name": "stdout",
     "output_type": "stream",
     "text": [
      "Part 2:\n",
      "424977609625985\n"
     ]
    }
   ],
   "source": [
    "operators = (add, mul, cat)\n",
    "\n",
    "print(\"Part 2:\")\n",
    "print(calibrate(operators))"
   ]
  }
 ],
 "metadata": {
  "kernelspec": {
   "display_name": "aoc",
   "language": "python",
   "name": "python3"
  },
  "language_info": {
   "codemirror_mode": {
    "name": "ipython",
    "version": 3
   },
   "file_extension": ".py",
   "mimetype": "text/x-python",
   "name": "python",
   "nbconvert_exporter": "python",
   "pygments_lexer": "ipython3",
   "version": "3.11.9"
  }
 },
 "nbformat": 4,
 "nbformat_minor": 2
}
