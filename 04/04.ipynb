{
 "cells": [
  {
   "cell_type": "code",
   "execution_count": 1,
   "metadata": {},
   "outputs": [],
   "source": [
    "from pathlib import Path\n",
    "\n",
    "lines = Path(\"input\").read_text().splitlines()"
   ]
  },
  {
   "cell_type": "code",
   "execution_count": 2,
   "metadata": {},
   "outputs": [],
   "source": [
    "grid = {}\n",
    "for y, line in enumerate(lines):\n",
    "    for x, c in enumerate(line):\n",
    "        grid[(x, y)] = c"
   ]
  },
  {
   "cell_type": "code",
   "execution_count": 3,
   "metadata": {},
   "outputs": [],
   "source": [
    "def search_n(x: int, y: int) -> int:\n",
    "    return grid.get((x, y), \"\") + grid.get((x, y - 1), \"\") + grid.get((x, y - 2), \"\") + grid.get((x, y - 3), \"\") == \"XMAS\"\n",
    "\n",
    "def search_ne(x: int, y: int) -> int:\n",
    "    return grid.get((x, y), \"\") + grid.get((x + 1, y - 1), \"\") + grid.get((x + 2, y - 2), \"\") + grid.get((x + 3, y - 3), \"\") == \"XMAS\"\n",
    "\n",
    "def search_e(x: int, y: int) -> int:\n",
    "    return grid.get((x, y), \"\") + grid.get((x + 1, y), \"\") + grid.get((x + 2, y), \"\") + grid.get((x + 3, y), \"\") == \"XMAS\"\n",
    "\n",
    "def search_se(x: int, y: int) -> int:\n",
    "    return grid.get((x, y), \"\") + grid.get((x + 1, y + 1), \"\") + grid.get((x + 2, y + 2), \"\") + grid.get((x + 3, y + 3), \"\") == \"XMAS\"\n",
    "\n",
    "def search_s(x: int, y: int) -> int:\n",
    "    return grid.get((x, y), \"\") + grid.get((x, y + 1), \"\") + grid.get((x, y + 2), \"\") + grid.get((x, y + 3), \"\") == \"XMAS\"\n",
    "\n",
    "def search_sw(x: int, y: int) -> int:\n",
    "    return grid.get((x, y), \"\") + grid.get((x - 1, y + 1), \"\") + grid.get((x - 2, y + 2), \"\") + grid.get((x - 3, y + 3), \"\") == \"XMAS\"\n",
    "\n",
    "def search_w(x: int, y: int) -> int:\n",
    "    return grid.get((x, y), \"\") + grid.get((x - 1, y), \"\") + grid.get((x - 2, y), \"\") + grid.get((x - 3, y), \"\") == \"XMAS\"\n",
    "\n",
    "def search_nw(x: int, y: int) -> int:\n",
    "    return grid.get((x, y), \"\") + grid.get((x - 1, y - 1), \"\") + grid.get((x - 2, y - 2), \"\") + grid.get((x - 3, y - 3), \"\") == \"XMAS\""
   ]
  },
  {
   "cell_type": "code",
   "execution_count": 4,
   "metadata": {},
   "outputs": [],
   "source": [
    "matches = 0\n",
    "for (x, y) in grid:\n",
    "    matches += int(search_n(x, y))\n",
    "    matches += int(search_ne(x, y))\n",
    "    matches += search_e(x, y)\n",
    "    matches += search_se(x, y)\n",
    "    matches += search_s(x, y)\n",
    "    matches += search_sw(x, y)\n",
    "    matches += search_w(x, y)\n",
    "    matches += search_nw(x, y)"
   ]
  },
  {
   "cell_type": "code",
   "execution_count": 5,
   "metadata": {},
   "outputs": [
    {
     "name": "stdout",
     "output_type": "stream",
     "text": [
      "Part 1:\n",
      "2344\n"
     ]
    }
   ],
   "source": [
    "print(\"Part 1:\")\n",
    "print(matches)"
   ]
  },
  {
   "cell_type": "code",
   "execution_count": 6,
   "metadata": {},
   "outputs": [],
   "source": [
    "def is_x_mas(x: int, y: int) -> bool:\n",
    "    g = (\n",
    "        grid.get((x, y), \"\") + grid.get((x + 2, y), \"\") +\n",
    "        grid.get((x + 1, y + 1), \"\") +\n",
    "        grid.get((x, y + 2), \"\") + grid.get((x + 2, y + 2), \"\")\n",
    "    )\n",
    "    return g in (\"MSAMS\", \"SSAMM\", \"MMASS\", \"SMASM\")"
   ]
  },
  {
   "cell_type": "code",
   "execution_count": 7,
   "metadata": {},
   "outputs": [],
   "source": [
    "matches = 0\n",
    "for (x, y) in grid:\n",
    "    if is_x_mas(x, y):\n",
    "        matches += 1"
   ]
  },
  {
   "cell_type": "code",
   "execution_count": 8,
   "metadata": {},
   "outputs": [
    {
     "name": "stdout",
     "output_type": "stream",
     "text": [
      "Part 2:\n",
      "1815\n"
     ]
    }
   ],
   "source": [
    "print(\"Part 2:\")\n",
    "print(matches)"
   ]
  }
 ],
 "metadata": {
  "kernelspec": {
   "display_name": "aoc",
   "language": "python",
   "name": "python3"
  },
  "language_info": {
   "codemirror_mode": {
    "name": "ipython",
    "version": 3
   },
   "file_extension": ".py",
   "mimetype": "text/x-python",
   "name": "python",
   "nbconvert_exporter": "python",
   "pygments_lexer": "ipython3",
   "version": "3.11.9"
  }
 },
 "nbformat": 4,
 "nbformat_minor": 2
}
