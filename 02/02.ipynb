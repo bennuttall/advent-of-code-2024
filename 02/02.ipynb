{
 "cells": [
  {
   "cell_type": "code",
   "execution_count": 68,
   "metadata": {},
   "outputs": [
    {
     "data": {
      "text/plain": [
       "1000"
      ]
     },
     "execution_count": 68,
     "metadata": {},
     "output_type": "execute_result"
    }
   ],
   "source": [
    "from pathlib import Path\n",
    "\n",
    "reports = [[int(i) for i in line.split()] for line in Path(\"input\").read_text().split(\"\\n\") if line]\n",
    "len(reports)"
   ]
  },
  {
   "cell_type": "code",
   "execution_count": 69,
   "metadata": {},
   "outputs": [],
   "source": [
    "from itertools import pairwise\n",
    "\n",
    "def safety_check_1(report: list[int]) -> bool:\n",
    "    deltas = [(b - a) > 0 for a, b in pairwise(report)]\n",
    "    return all(deltas) or not any(deltas)\n",
    "\n",
    "def safety_check_2(report: list[int]) -> bool:\n",
    "    deltas = [0 < abs(b - a) < 4 for a, b in pairwise(report)]\n",
    "    return all(deltas) or not any(deltas)\n",
    "\n",
    "def safety_check(report: list[int]) -> bool:\n",
    "    return safety_check_1(report) and safety_check_2(report)"
   ]
  },
  {
   "cell_type": "code",
   "execution_count": 70,
   "metadata": {},
   "outputs": [
    {
     "name": "stdout",
     "output_type": "stream",
     "text": [
      "Part 1:\n",
      "559\n"
     ]
    }
   ],
   "source": [
    "print(\"Part 1:\")\n",
    "print(len([1 for report in reports if safety_check(report)]))"
   ]
  },
  {
   "cell_type": "code",
   "execution_count": 71,
   "metadata": {},
   "outputs": [],
   "source": [
    "def safety_check_with_problem_dampener(report: list[int]) -> bool:\n",
    "    if safety_check(report):\n",
    "        return True\n",
    "    for i in range(len(report)):\n",
    "        new_report = report[:i] + report[i+1:]\n",
    "        assert len(new_report) == len(report) - 1\n",
    "        if safety_check(new_report):\n",
    "            return True\n",
    "    return False"
   ]
  },
  {
   "cell_type": "code",
   "execution_count": 72,
   "metadata": {},
   "outputs": [
    {
     "name": "stdout",
     "output_type": "stream",
     "text": [
      "Part 2:\n",
      "623\n"
     ]
    }
   ],
   "source": [
    "print(\"Part 2:\")\n",
    "print(len([1 for report in reports if safety_check_with_problem_dampener(report)]))\n",
    "# 622 too high"
   ]
  },
  {
   "cell_type": "code",
   "execution_count": 73,
   "metadata": {},
   "outputs": [
    {
     "name": "stdout",
     "output_type": "stream",
     "text": [
      "True\n",
      "False\n",
      "False\n",
      "True\n",
      "True\n",
      "True\n"
     ]
    }
   ],
   "source": [
    "print(safety_check_with_problem_dampener([7, 6, 4, 2, 1]))\n",
    "print(safety_check_with_problem_dampener([1, 2, 7, 8, 9]))\n",
    "print(safety_check_with_problem_dampener([9, 7, 6, 2, 1]))\n",
    "print(safety_check_with_problem_dampener([1, 3, 2, 4, 5]))\n",
    "print(safety_check_with_problem_dampener([8, 6, 4, 4, 1]))\n",
    "print(safety_check_with_problem_dampener([1, 3, 6, 7, 9]))"
   ]
  },
  {
   "cell_type": "code",
   "execution_count": null,
   "metadata": {},
   "outputs": [],
   "source": []
  }
 ],
 "metadata": {
  "kernelspec": {
   "display_name": "aoc",
   "language": "python",
   "name": "python3"
  },
  "language_info": {
   "codemirror_mode": {
    "name": "ipython",
    "version": 3
   },
   "file_extension": ".py",
   "mimetype": "text/x-python",
   "name": "python",
   "nbconvert_exporter": "python",
   "pygments_lexer": "ipython3",
   "version": "3.13.0"
  }
 },
 "nbformat": 4,
 "nbformat_minor": 2
}
