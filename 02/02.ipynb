{
 "cells": [
  {
   "cell_type": "code",
   "execution_count": 1,
   "metadata": {},
   "outputs": [],
   "source": [
    "from pathlib import Path\n",
    "\n",
    "reports = [[int(i) for i in line.split()] for line in Path(\"input\").read_text().split(\"\\n\") if line]"
   ]
  },
  {
   "cell_type": "code",
   "execution_count": 2,
   "metadata": {},
   "outputs": [],
   "source": [
    "from itertools import pairwise\n",
    "\n",
    "def safety_check_1(report: list[int]) -> bool:\n",
    "    deltas_gt_0 = [(b - a) > 0 for a, b in pairwise(report)]\n",
    "    return all(deltas_gt_0) or not any(deltas_gt_0)\n",
    "\n",
    "def safety_check_2(report: list[int]) -> bool:\n",
    "    deltas_between_1_and_3 = [0 < abs(b - a) < 4 for a, b in pairwise(report)]\n",
    "    return all(deltas_between_1_and_3)\n",
    "\n",
    "def safety_check(report: list[int]) -> bool:\n",
    "    return safety_check_1(report) and safety_check_2(report)"
   ]
  },
  {
   "cell_type": "code",
   "execution_count": 3,
   "metadata": {},
   "outputs": [
    {
     "name": "stdout",
     "output_type": "stream",
     "text": [
      "Part 1:\n",
      "559\n"
     ]
    }
   ],
   "source": [
    "print(\"Part 1:\")\n",
    "print(len([1 for report in reports if safety_check(report)]))"
   ]
  },
  {
   "cell_type": "code",
   "execution_count": 4,
   "metadata": {},
   "outputs": [],
   "source": [
    "def safety_check_with_problem_dampener(report: list[int]) -> bool:\n",
    "    if safety_check(report):\n",
    "        return True\n",
    "    for i in range(len(report)):\n",
    "        new_report = report[:i] + report[i+1:]\n",
    "        if safety_check(new_report):\n",
    "            return True\n",
    "    return False"
   ]
  },
  {
   "cell_type": "code",
   "execution_count": 5,
   "metadata": {},
   "outputs": [
    {
     "name": "stdout",
     "output_type": "stream",
     "text": [
      "Part 2:\n",
      "601\n"
     ]
    }
   ],
   "source": [
    "print(\"Part 2:\")\n",
    "print(len([1 for report in reports if safety_check_with_problem_dampener(report)]))"
   ]
  }
 ],
 "metadata": {
  "kernelspec": {
   "display_name": "aoc",
   "language": "python",
   "name": "python3"
  },
  "language_info": {
   "codemirror_mode": {
    "name": "ipython",
    "version": 3
   },
   "file_extension": ".py",
   "mimetype": "text/x-python",
   "name": "python",
   "nbconvert_exporter": "python",
   "pygments_lexer": "ipython3",
   "version": "3.11.9"
  }
 },
 "nbformat": 4,
 "nbformat_minor": 2
}
