{
 "cells": [
  {
   "cell_type": "code",
   "execution_count": 1,
   "metadata": {},
   "outputs": [],
   "source": [
    "from pathlib import Path\n",
    "from collections import defaultdict\n",
    "\n",
    "top, bottom = [section.split(\"\\n\") for section in Path(\"input\").read_text().strip().split(\"\\n\\n\")]\n",
    "\n",
    "rules = defaultdict(set)\n",
    "for line in top:\n",
    "    if line:\n",
    "        a, b = [int(i) for i in line.split(\"|\")]\n",
    "        rules[b].add(a)\n",
    "\n",
    "updates = []\n",
    "for line in bottom:\n",
    "    updates.append([int(i) for i in line.split(\",\")])"
   ]
  },
  {
   "cell_type": "code",
   "execution_count": 2,
   "metadata": {},
   "outputs": [],
   "source": [
    "def check_page_order(pages: list[int]) -> bool:\n",
    "    for i, page in enumerate(pages):\n",
    "        next_pages = set(pages[i+1:])\n",
    "        if next_pages & rules[page]:\n",
    "            return False\n",
    "    return True"
   ]
  },
  {
   "cell_type": "code",
   "execution_count": 3,
   "metadata": {},
   "outputs": [
    {
     "name": "stdout",
     "output_type": "stream",
     "text": [
      "Part 1:\n",
      "4637\n"
     ]
    }
   ],
   "source": [
    "print(\"Part 1:\")\n",
    "print(sum(update[int(len(update) / 2)] for update in updates if check_page_order(update)))"
   ]
  },
  {
   "cell_type": "code",
   "execution_count": 4,
   "metadata": {},
   "outputs": [],
   "source": [
    "import networkx as nx\n",
    "\n",
    "graph = nx.DiGraph()\n",
    "\n",
    "for before, afters in rules.items():\n",
    "    for after in afters:\n",
    "        graph.add_edge(after, before)"
   ]
  },
  {
   "cell_type": "code",
   "execution_count": 5,
   "metadata": {},
   "outputs": [],
   "source": [
    "def correct_order(update: list[int]) -> list[int]:\n",
    "    subgraph = graph.subgraph(update)\n",
    "    return list(nx.topological_sort(subgraph))"
   ]
  },
  {
   "cell_type": "code",
   "execution_count": 6,
   "metadata": {},
   "outputs": [],
   "source": [
    "corrected_updates = [correct_order(update) for update in updates if not check_page_order(update)]"
   ]
  },
  {
   "cell_type": "code",
   "execution_count": 7,
   "metadata": {},
   "outputs": [
    {
     "name": "stdout",
     "output_type": "stream",
     "text": [
      "Part 2:\n",
      "6370\n"
     ]
    }
   ],
   "source": [
    "print(\"Part 2:\")\n",
    "print(sum(page[int(len(page) / 2)] for page in corrected_updates))"
   ]
  }
 ],
 "metadata": {
  "kernelspec": {
   "display_name": "aoc",
   "language": "python",
   "name": "python3"
  },
  "language_info": {
   "codemirror_mode": {
    "name": "ipython",
    "version": 3
   },
   "file_extension": ".py",
   "mimetype": "text/x-python",
   "name": "python",
   "nbconvert_exporter": "python",
   "pygments_lexer": "ipython3",
   "version": "3.13.0"
  }
 },
 "nbformat": 4,
 "nbformat_minor": 2
}
