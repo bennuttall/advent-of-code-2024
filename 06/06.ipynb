{
 "cells": [
  {
   "cell_type": "code",
   "execution_count": 1,
   "metadata": {},
   "outputs": [],
   "source": [
    "from pathlib import Path\n",
    "\n",
    "grid = {}\n",
    "for y, line in enumerate(Path(\"input\").read_text().split(\"\\n\")):\n",
    "    for x, c in enumerate(line):\n",
    "        if c == \"^\":\n",
    "            start_pos = (x, y)\n",
    "            c = \".\"\n",
    "        grid[(x, y)] = c"
   ]
  },
  {
   "cell_type": "code",
   "execution_count": 2,
   "metadata": {},
   "outputs": [],
   "source": [
    "class OutOfBounds(Exception):\n",
    "    pass\n",
    "\n",
    "def step(x: int, y: int, dir: str, grid: dict) -> tuple[int, int, str]:\n",
    "    next_pos = {\n",
    "        \"^\": (x, y - 1),\n",
    "        \">\": (x + 1, y),\n",
    "        \"v\": (x, y + 1),\n",
    "        \"<\": (x - 1, y),\n",
    "    }[dir]\n",
    "    \n",
    "    try:\n",
    "        next_pos_type = grid[next_pos]\n",
    "    except KeyError:\n",
    "        raise OutOfBounds\n",
    "    \n",
    "    if next_pos_type == \".\":\n",
    "        nx, ny = next_pos\n",
    "        return (nx, ny, dir)\n",
    "    next_dir = {\n",
    "        \"^\": \">\",\n",
    "        \">\": \"v\",\n",
    "        \"v\": \"<\",\n",
    "        \"<\": \"^\",\n",
    "    }[dir]\n",
    "    return step(x, y, next_dir, grid)"
   ]
  },
  {
   "cell_type": "code",
   "execution_count": 3,
   "metadata": {},
   "outputs": [],
   "source": [
    "x, y = start_pos\n",
    "start_dir = \"^\"\n",
    "dir = start_dir\n",
    "visited = {start_pos}\n",
    "\n",
    "while True:\n",
    "    try:\n",
    "        x, y, dir = step(x, y, dir, grid)\n",
    "        visited.add((x, y))\n",
    "    except OutOfBounds:\n",
    "        break"
   ]
  },
  {
   "cell_type": "code",
   "execution_count": 4,
   "metadata": {},
   "outputs": [
    {
     "name": "stdout",
     "output_type": "stream",
     "text": [
      "Part 1:\n",
      "5318\n"
     ]
    }
   ],
   "source": [
    "print(\"Part 1:\")\n",
    "print(len(visited))"
   ]
  },
  {
   "cell_type": "code",
   "execution_count": 5,
   "metadata": {},
   "outputs": [],
   "source": [
    "def new_obstacle_creates_loop(start_pos: tuple[int, int], dir: str, new_obstacle_pos: tuple[int, int]) -> bool:\n",
    "    this_grid = {(x, y): c for (x, y), c in grid.items()}\n",
    "    nox, noy = new_obstacle_pos\n",
    "    this_grid[(nox, noy)] = \"#\"\n",
    "    x, y = start_pos\n",
    "    visited = {(x, y, dir)}\n",
    "\n",
    "    while True:\n",
    "        try:\n",
    "            x, y, dir = step(x, y, dir, this_grid)\n",
    "        except OutOfBounds:\n",
    "            return False\n",
    "        new_state = (x, y, dir)\n",
    "        if new_state in visited:\n",
    "            return True\n",
    "        visited.add(new_state)"
   ]
  },
  {
   "cell_type": "code",
   "execution_count": 6,
   "metadata": {},
   "outputs": [
    {
     "name": "stdout",
     "output_type": "stream",
     "text": [
      "Part 2:\n",
      "1831\n"
     ]
    }
   ],
   "source": [
    "print(\"Part 2:\")\n",
    "print(sum([1 for location in visited if new_obstacle_creates_loop(start_pos, start_dir, location)]))"
   ]
  }
 ],
 "metadata": {
  "kernelspec": {
   "display_name": "aoc",
   "language": "python",
   "name": "python3"
  },
  "language_info": {
   "codemirror_mode": {
    "name": "ipython",
    "version": 3
   },
   "file_extension": ".py",
   "mimetype": "text/x-python",
   "name": "python",
   "nbconvert_exporter": "python",
   "pygments_lexer": "ipython3",
   "version": "3.11.9"
  }
 },
 "nbformat": 4,
 "nbformat_minor": 2
}
